{
  "cells": [
    {
      "cell_type": "markdown",
      "metadata": {},
      "source": [
        "# Import Libraries"
      ]
    },
    {
      "cell_type": "code",
      "execution_count": null,
      "metadata": {
        "id": "ATgjjYeN9RsF"
      },
      "outputs": [],
      "source": [
        "#General\n",
        "import numpy as np\n",
        "import pandas as pd\n",
        "import itertools\n",
        "from tqdm import tqdm\n",
        "\n",
        "# System\n",
        "import os, fnmatch\n",
        "import time\n",
        "import warnings\n",
        "warnings.simplefilter(\"ignore\")\n",
        "\n",
        "# Random Seed\n",
        "from numpy.random import seed\n",
        "seed(1)\n",
        "\n",
        "# Audio\n",
        "import librosa.display, librosa\n",
        "\n",
        "!pip install -q noisereduce\n",
        "import noisereduce as nr"
      ]
    },
    {
      "cell_type": "code",
      "execution_count": null,
      "metadata": {
        "id": "k3JmH3gZB6-e"
      },
      "outputs": [],
      "source": [
        "# Root Directory of project\n",
        "root = \"/content/drive/MyDrive/ML_Final_Project\""
      ]
    },
    {
      "cell_type": "markdown",
      "metadata": {},
      "source": [
        "# Load Data"
      ]
    },
    {
      "cell_type": "code",
      "execution_count": null,
      "metadata": {
        "colab": {
          "base_uri": "https://localhost:8080/",
          "height": 424
        },
        "id": "3XY9Sukt9dsh",
        "outputId": "0db730af-38f0-49e9-fe68-4fc8b666c06a"
      },
      "outputs": [
        {
          "data": {
            "text/html": [
              "\n",
              "  <div id=\"df-2ebcab79-85bb-4372-a674-3cb5a2ab1d0c\">\n",
              "    <div class=\"colab-df-container\">\n",
              "      <div>\n",
              "<style scoped>\n",
              "    .dataframe tbody tr th:only-of-type {\n",
              "        vertical-align: middle;\n",
              "    }\n",
              "\n",
              "    .dataframe tbody tr th {\n",
              "        vertical-align: top;\n",
              "    }\n",
              "\n",
              "    .dataframe thead th {\n",
              "        text-align: right;\n",
              "    }\n",
              "</style>\n",
              "<table border=\"1\" class=\"dataframe\">\n",
              "  <thead>\n",
              "    <tr style=\"text-align: right;\">\n",
              "      <th></th>\n",
              "      <th>voice_id</th>\n",
              "      <th>emotion_id</th>\n",
              "      <th>text_id</th>\n",
              "      <th>gender</th>\n",
              "      <th>age</th>\n",
              "      <th>file_path</th>\n",
              "    </tr>\n",
              "  </thead>\n",
              "  <tbody>\n",
              "    <tr>\n",
              "      <th>0</th>\n",
              "      <td>15997</td>\n",
              "      <td>1</td>\n",
              "      <td>1</td>\n",
              "      <td>1</td>\n",
              "      <td>21</td>\n",
              "      <td>/content/drive/MyDrive/ML_Final_Project/Voice/...</td>\n",
              "    </tr>\n",
              "    <tr>\n",
              "      <th>1</th>\n",
              "      <td>16001</td>\n",
              "      <td>1</td>\n",
              "      <td>2</td>\n",
              "      <td>1</td>\n",
              "      <td>21</td>\n",
              "      <td>/content/drive/MyDrive/ML_Final_Project/Voice/...</td>\n",
              "    </tr>\n",
              "    <tr>\n",
              "      <th>2</th>\n",
              "      <td>16005</td>\n",
              "      <td>1</td>\n",
              "      <td>3</td>\n",
              "      <td>1</td>\n",
              "      <td>21</td>\n",
              "      <td>/content/drive/MyDrive/ML_Final_Project/Voice/...</td>\n",
              "    </tr>\n",
              "    <tr>\n",
              "      <th>3</th>\n",
              "      <td>16009</td>\n",
              "      <td>1</td>\n",
              "      <td>4</td>\n",
              "      <td>1</td>\n",
              "      <td>21</td>\n",
              "      <td>/content/drive/MyDrive/ML_Final_Project/Voice/...</td>\n",
              "    </tr>\n",
              "    <tr>\n",
              "      <th>4</th>\n",
              "      <td>16013</td>\n",
              "      <td>1</td>\n",
              "      <td>5</td>\n",
              "      <td>1</td>\n",
              "      <td>21</td>\n",
              "      <td>/content/drive/MyDrive/ML_Final_Project/Voice/...</td>\n",
              "    </tr>\n",
              "    <tr>\n",
              "      <th>...</th>\n",
              "      <td>...</td>\n",
              "      <td>...</td>\n",
              "      <td>...</td>\n",
              "      <td>...</td>\n",
              "      <td>...</td>\n",
              "      <td>...</td>\n",
              "    </tr>\n",
              "    <tr>\n",
              "      <th>16435</th>\n",
              "      <td>10563</td>\n",
              "      <td>4</td>\n",
              "      <td>6</td>\n",
              "      <td>0</td>\n",
              "      <td>54</td>\n",
              "      <td>/content/drive/MyDrive/ML_Final_Project/Voice/...</td>\n",
              "    </tr>\n",
              "    <tr>\n",
              "      <th>16436</th>\n",
              "      <td>10567</td>\n",
              "      <td>4</td>\n",
              "      <td>7</td>\n",
              "      <td>0</td>\n",
              "      <td>54</td>\n",
              "      <td>/content/drive/MyDrive/ML_Final_Project/Voice/...</td>\n",
              "    </tr>\n",
              "    <tr>\n",
              "      <th>16437</th>\n",
              "      <td>10571</td>\n",
              "      <td>4</td>\n",
              "      <td>8</td>\n",
              "      <td>0</td>\n",
              "      <td>54</td>\n",
              "      <td>/content/drive/MyDrive/ML_Final_Project/Voice/...</td>\n",
              "    </tr>\n",
              "    <tr>\n",
              "      <th>16438</th>\n",
              "      <td>10575</td>\n",
              "      <td>4</td>\n",
              "      <td>9</td>\n",
              "      <td>0</td>\n",
              "      <td>54</td>\n",
              "      <td>/content/drive/MyDrive/ML_Final_Project/Voice/...</td>\n",
              "    </tr>\n",
              "    <tr>\n",
              "      <th>16439</th>\n",
              "      <td>10539</td>\n",
              "      <td>4</td>\n",
              "      <td>10</td>\n",
              "      <td>0</td>\n",
              "      <td>54</td>\n",
              "      <td>/content/drive/MyDrive/ML_Final_Project/Voice/...</td>\n",
              "    </tr>\n",
              "  </tbody>\n",
              "</table>\n",
              "<p>16440 rows × 6 columns</p>\n",
              "</div>\n",
              "      <button class=\"colab-df-convert\" onclick=\"convertToInteractive('df-2ebcab79-85bb-4372-a674-3cb5a2ab1d0c')\"\n",
              "              title=\"Convert this dataframe to an interactive table.\"\n",
              "              style=\"display:none;\">\n",
              "        \n",
              "  <svg xmlns=\"http://www.w3.org/2000/svg\" height=\"24px\"viewBox=\"0 0 24 24\"\n",
              "       width=\"24px\">\n",
              "    <path d=\"M0 0h24v24H0V0z\" fill=\"none\"/>\n",
              "    <path d=\"M18.56 5.44l.94 2.06.94-2.06 2.06-.94-2.06-.94-.94-2.06-.94 2.06-2.06.94zm-11 1L8.5 8.5l.94-2.06 2.06-.94-2.06-.94L8.5 2.5l-.94 2.06-2.06.94zm10 10l.94 2.06.94-2.06 2.06-.94-2.06-.94-.94-2.06-.94 2.06-2.06.94z\"/><path d=\"M17.41 7.96l-1.37-1.37c-.4-.4-.92-.59-1.43-.59-.52 0-1.04.2-1.43.59L10.3 9.45l-7.72 7.72c-.78.78-.78 2.05 0 2.83L4 21.41c.39.39.9.59 1.41.59.51 0 1.02-.2 1.41-.59l7.78-7.78 2.81-2.81c.8-.78.8-2.07 0-2.86zM5.41 20L4 18.59l7.72-7.72 1.47 1.35L5.41 20z\"/>\n",
              "  </svg>\n",
              "      </button>\n",
              "      \n",
              "  <style>\n",
              "    .colab-df-container {\n",
              "      display:flex;\n",
              "      flex-wrap:wrap;\n",
              "      gap: 12px;\n",
              "    }\n",
              "\n",
              "    .colab-df-convert {\n",
              "      background-color: #E8F0FE;\n",
              "      border: none;\n",
              "      border-radius: 50%;\n",
              "      cursor: pointer;\n",
              "      display: none;\n",
              "      fill: #1967D2;\n",
              "      height: 32px;\n",
              "      padding: 0 0 0 0;\n",
              "      width: 32px;\n",
              "    }\n",
              "\n",
              "    .colab-df-convert:hover {\n",
              "      background-color: #E2EBFA;\n",
              "      box-shadow: 0px 1px 2px rgba(60, 64, 67, 0.3), 0px 1px 3px 1px rgba(60, 64, 67, 0.15);\n",
              "      fill: #174EA6;\n",
              "    }\n",
              "\n",
              "    [theme=dark] .colab-df-convert {\n",
              "      background-color: #3B4455;\n",
              "      fill: #D2E3FC;\n",
              "    }\n",
              "\n",
              "    [theme=dark] .colab-df-convert:hover {\n",
              "      background-color: #434B5C;\n",
              "      box-shadow: 0px 1px 3px 1px rgba(0, 0, 0, 0.15);\n",
              "      filter: drop-shadow(0px 1px 2px rgba(0, 0, 0, 0.3));\n",
              "      fill: #FFFFFF;\n",
              "    }\n",
              "  </style>\n",
              "\n",
              "      <script>\n",
              "        const buttonEl =\n",
              "          document.querySelector('#df-2ebcab79-85bb-4372-a674-3cb5a2ab1d0c button.colab-df-convert');\n",
              "        buttonEl.style.display =\n",
              "          google.colab.kernel.accessAllowed ? 'block' : 'none';\n",
              "\n",
              "        async function convertToInteractive(key) {\n",
              "          const element = document.querySelector('#df-2ebcab79-85bb-4372-a674-3cb5a2ab1d0c');\n",
              "          const dataTable =\n",
              "            await google.colab.kernel.invokeFunction('convertToInteractive',\n",
              "                                                     [key], {});\n",
              "          if (!dataTable) return;\n",
              "\n",
              "          const docLinkHtml = 'Like what you see? Visit the ' +\n",
              "            '<a target=\"_blank\" href=https://colab.research.google.com/notebooks/data_table.ipynb>data table notebook</a>'\n",
              "            + ' to learn more about interactive tables.';\n",
              "          element.innerHTML = '';\n",
              "          dataTable['output_type'] = 'display_data';\n",
              "          await google.colab.output.renderOutput(dataTable, element);\n",
              "          const docLink = document.createElement('div');\n",
              "          docLink.innerHTML = docLinkHtml;\n",
              "          element.appendChild(docLink);\n",
              "        }\n",
              "      </script>\n",
              "    </div>\n",
              "  </div>\n",
              "  "
            ],
            "text/plain": [
              "       voice_id  emotion_id  text_id  gender  age  \\\n",
              "0         15997           1        1       1   21   \n",
              "1         16001           1        2       1   21   \n",
              "2         16005           1        3       1   21   \n",
              "3         16009           1        4       1   21   \n",
              "4         16013           1        5       1   21   \n",
              "...         ...         ...      ...     ...  ...   \n",
              "16435     10563           4        6       0   54   \n",
              "16436     10567           4        7       0   54   \n",
              "16437     10571           4        8       0   54   \n",
              "16438     10575           4        9       0   54   \n",
              "16439     10539           4       10       0   54   \n",
              "\n",
              "                                               file_path  \n",
              "0      /content/drive/MyDrive/ML_Final_Project/Voice/...  \n",
              "1      /content/drive/MyDrive/ML_Final_Project/Voice/...  \n",
              "2      /content/drive/MyDrive/ML_Final_Project/Voice/...  \n",
              "3      /content/drive/MyDrive/ML_Final_Project/Voice/...  \n",
              "4      /content/drive/MyDrive/ML_Final_Project/Voice/...  \n",
              "...                                                  ...  \n",
              "16435  /content/drive/MyDrive/ML_Final_Project/Voice/...  \n",
              "16436  /content/drive/MyDrive/ML_Final_Project/Voice/...  \n",
              "16437  /content/drive/MyDrive/ML_Final_Project/Voice/...  \n",
              "16438  /content/drive/MyDrive/ML_Final_Project/Voice/...  \n",
              "16439  /content/drive/MyDrive/ML_Final_Project/Voice/...  \n",
              "\n",
              "[16440 rows x 6 columns]"
            ]
          },
          "execution_count": 35,
          "metadata": {},
          "output_type": "execute_result"
        }
      ],
      "source": [
        "data = pd.read_csv(f'{root}/clean_data.csv')\n",
        "data"
      ]
    },
    {
      "cell_type": "markdown",
      "metadata": {},
      "source": [
        "# Final Check on Unique and Null values"
      ]
    },
    {
      "cell_type": "code",
      "execution_count": null,
      "metadata": {
        "colab": {
          "base_uri": "https://localhost:8080/",
          "height": 237
        },
        "id": "ZnPJnneaoIxi",
        "outputId": "d75b188e-ee64-4887-cde5-7249cc3adb9f"
      },
      "outputs": [
        {
          "data": {
            "text/html": [
              "<style type=\"text/css\">\n",
              "#T_37ccf_row0_col1, #T_37ccf_row5_col1 {\n",
              "  background-color: #ffed6f;\n",
              "  color: #000000;\n",
              "}\n",
              "#T_37ccf_row0_col2, #T_37ccf_row1_col1, #T_37ccf_row1_col2, #T_37ccf_row2_col1, #T_37ccf_row2_col2, #T_37ccf_row3_col1, #T_37ccf_row3_col2, #T_37ccf_row4_col1, #T_37ccf_row4_col2, #T_37ccf_row5_col2 {\n",
              "  background-color: #8dd3c7;\n",
              "  color: #000000;\n",
              "}\n",
              "</style>\n",
              "<table id=\"T_37ccf_\" class=\"dataframe\">\n",
              "  <thead>\n",
              "    <tr>\n",
              "      <th class=\"blank level0\" >&nbsp;</th>\n",
              "      <th class=\"col_heading level0 col0\" >Data Type</th>\n",
              "      <th class=\"col_heading level0 col1\" >Unique Values</th>\n",
              "      <th class=\"col_heading level0 col2\" >Null Values</th>\n",
              "    </tr>\n",
              "  </thead>\n",
              "  <tbody>\n",
              "    <tr>\n",
              "      <th id=\"T_37ccf_level0_row0\" class=\"row_heading level0 row0\" >voice_id</th>\n",
              "      <td id=\"T_37ccf_row0_col0\" class=\"data row0 col0\" >int64</td>\n",
              "      <td id=\"T_37ccf_row0_col1\" class=\"data row0 col1\" >16440</td>\n",
              "      <td id=\"T_37ccf_row0_col2\" class=\"data row0 col2\" >0</td>\n",
              "    </tr>\n",
              "    <tr>\n",
              "      <th id=\"T_37ccf_level0_row1\" class=\"row_heading level0 row1\" >emotion_id</th>\n",
              "      <td id=\"T_37ccf_row1_col0\" class=\"data row1 col0\" >int64</td>\n",
              "      <td id=\"T_37ccf_row1_col1\" class=\"data row1 col1\" >4</td>\n",
              "      <td id=\"T_37ccf_row1_col2\" class=\"data row1 col2\" >0</td>\n",
              "    </tr>\n",
              "    <tr>\n",
              "      <th id=\"T_37ccf_level0_row2\" class=\"row_heading level0 row2\" >text_id</th>\n",
              "      <td id=\"T_37ccf_row2_col0\" class=\"data row2 col0\" >int64</td>\n",
              "      <td id=\"T_37ccf_row2_col1\" class=\"data row2 col1\" >10</td>\n",
              "      <td id=\"T_37ccf_row2_col2\" class=\"data row2 col2\" >0</td>\n",
              "    </tr>\n",
              "    <tr>\n",
              "      <th id=\"T_37ccf_level0_row3\" class=\"row_heading level0 row3\" >gender</th>\n",
              "      <td id=\"T_37ccf_row3_col0\" class=\"data row3 col0\" >int64</td>\n",
              "      <td id=\"T_37ccf_row3_col1\" class=\"data row3 col1\" >2</td>\n",
              "      <td id=\"T_37ccf_row3_col2\" class=\"data row3 col2\" >0</td>\n",
              "    </tr>\n",
              "    <tr>\n",
              "      <th id=\"T_37ccf_level0_row4\" class=\"row_heading level0 row4\" >age</th>\n",
              "      <td id=\"T_37ccf_row4_col0\" class=\"data row4 col0\" >int64</td>\n",
              "      <td id=\"T_37ccf_row4_col1\" class=\"data row4 col1\" >57</td>\n",
              "      <td id=\"T_37ccf_row4_col2\" class=\"data row4 col2\" >0</td>\n",
              "    </tr>\n",
              "    <tr>\n",
              "      <th id=\"T_37ccf_level0_row5\" class=\"row_heading level0 row5\" >file_path</th>\n",
              "      <td id=\"T_37ccf_row5_col0\" class=\"data row5 col0\" >object</td>\n",
              "      <td id=\"T_37ccf_row5_col1\" class=\"data row5 col1\" >16440</td>\n",
              "      <td id=\"T_37ccf_row5_col2\" class=\"data row5 col2\" >0</td>\n",
              "    </tr>\n",
              "  </tbody>\n",
              "</table>\n"
            ],
            "text/plain": [
              "<pandas.io.formats.style.Styler at 0x7fa30a666f90>"
            ]
          },
          "execution_count": 36,
          "metadata": {},
          "output_type": "execute_result"
        }
      ],
      "source": [
        "dtypes=pd.DataFrame(data.dtypes,columns=[\"Data Type\"])\n",
        "dtypes[\"Unique Values\"]=data.nunique()\n",
        "dtypes[\"Null Values\"]=data.isnull().sum()\n",
        "dtypes.style.background_gradient(cmap='Set3',axis=0)"
      ]
    },
    {
      "cell_type": "markdown",
      "metadata": {},
      "source": [
        "# Signal Processing Parameters"
      ]
    },
    {
      "cell_type": "code",
      "execution_count": null,
      "metadata": {
        "id": "6cH2H1QV9aA9"
      },
      "outputs": [],
      "source": [
        "fs = 22050         # Sampling rate\n",
        "n_fft = 2048       # length of the FFT window\n",
        "hop_length = 512   # Number of samples between successive frames\n",
        "n_mels = 128       # Number of Mel bands\n",
        "n_mfcc = 13        # Number of MFCCs"
      ]
    },
    {
      "cell_type": "markdown",
      "metadata": {},
      "source": [
        "# Define Function to Calculate MFCC, Mel, CHROMA features\n"
      ]
    },
    {
      "cell_type": "code",
      "execution_count": null,
      "metadata": {
        "id": "wa3GoAl_9lao"
      },
      "outputs": [],
      "source": [
        "\n",
        "\n",
        "def get_features(y, sr=fs):\n",
        "    S = librosa.feature.melspectrogram(y, sr=fs, n_mels=n_mels, n_fft=n_fft)\n",
        "    mfcc = librosa.feature.mfcc(S=librosa.power_to_db(S), n_mfcc=n_mfcc)\n",
        "    mfcc_feature_vector = np.mean(mfcc,1)\n",
        "    mel_feature_vector = np.mean(S,1)\n",
        "\n",
        "    S = np.abs(librosa.stft(y))\n",
        "    chroma = librosa.feature.chroma_stft(S=S, sr=sr)\n",
        "    chroma_feature_vector = np.mean(chroma,1)\n",
        "\n",
        "    return mfcc_feature_vector, chroma_feature_vector, mel_feature_vector\n",
        "\n"
      ]
    },
    {
      "cell_type": "markdown",
      "metadata": {},
      "source": [
        "# Load audio files, calculate features and create feature vectors\n"
      ]
    },
    {
      "cell_type": "code",
      "execution_count": null,
      "metadata": {
        "colab": {
          "base_uri": "https://localhost:8080/"
        },
        "id": "Sa3Rb3yf9yOh",
        "outputId": "c400b1f4-9277-43de-e278-3bce1d2e8537"
      },
      "outputs": [],
      "source": [
        "\n",
        "\n",
        "files = data['file_path']\n",
        "\n",
        "mfcc_feature_vectors = []\n",
        "mel_feature_vectors = []\n",
        "chroma_feature_vectors = []\n",
        "sound_paths = []\n",
        "errors = []\n",
        "\n",
        "for i, f in enumerate(tqdm(files)):\n",
        "    try:\n",
        "      # Load audio file\n",
        "      y, sr = librosa.load(f, sr=fs)\n",
        "\n",
        "      # Trim the beginning and ending silence\n",
        "      yt, index = librosa.effects.trim(y)\n",
        "\n",
        "      # perform noise reduction\n",
        "      ytr = nr.reduce_noise(y=yt, sr=sr)\n",
        "\n",
        "      # Normalize\n",
        "      ytr/=ytr.max() \n",
        "\n",
        "      # Remove voices with length more than 3 seconds\n",
        "      dur = librosa.get_duration(y=y, sr=sr)\n",
        "      if dur > 3:\n",
        "        print(f'Deleted row #{i} with Duration:{dur}')\n",
        "        errors.append(i)\n",
        "        continue\n",
        "\n",
        "      if len(ytr) < 2:\n",
        "          print(\"Error loading %s\" % f)\n",
        "          continue\n",
        "      \n",
        "      # Get Features\n",
        "      mfcc_feat, chroma_feat, mel_feat = get_features(ytr, sr)\n",
        "      mfcc_feature_vectors.append(mfcc_feat)\n",
        "      mel_feature_vectors.append(mel_feat)\n",
        "      chroma_feature_vectors.append(chroma_feat)\n",
        "      sound_paths.append(f)\n",
        "\n",
        "    except Exception as e:\n",
        "      continue\n",
        "        \n",
        "print(\"\\n\\nCalculated %d MFCC feature vectors and labels\"%len(mfcc_feat))\n",
        "print(\"\\n\\nCalculated %d MFCC flat feature vectors and labels\"%len(mel_feat))\n",
        "print(\"\\nCalculated %d CHROMA feature vectors and labels\"%len(chroma_feat))\n",
        "print(\"\\nDeleted %d Row feature vectors\"%len(errors))\n"
      ]
    },
    {
      "cell_type": "code",
      "execution_count": null,
      "metadata": {
        "colab": {
          "base_uri": "https://localhost:8080/",
          "height": 424
        },
        "id": "3I1B8mYkQ2YO",
        "outputId": "130ded2a-bf2b-4cc8-f299-3c1faafca0d8"
      },
      "outputs": [],
      "source": [
        "new = data.drop(errors, axis=0)\n",
        "new"
      ]
    },
    {
      "cell_type": "markdown",
      "metadata": {},
      "source": [
        "# Save Feature Csv"
      ]
    },
    {
      "cell_type": "code",
      "execution_count": null,
      "metadata": {
        "colab": {
          "base_uri": "https://localhost:8080/"
        },
        "id": "-AjWOOpTRBlV",
        "outputId": "3d143915-92a1-43e7-f7f0-560ec9d5c357"
      },
      "outputs": [],
      "source": [
        "mfcc_df = pd.DataFrame(mfcc_feature_vectors)\n",
        "print(mfcc_df.shape)\n",
        "print(new.shape)"
      ]
    },
    {
      "cell_type": "code",
      "execution_count": null,
      "metadata": {
        "colab": {
          "base_uri": "https://localhost:8080/",
          "height": 424
        },
        "id": "XpXeLSRYaW2d",
        "outputId": "401abedd-3f3c-4596-c9b4-880c9c8658d1"
      },
      "outputs": [],
      "source": [
        "mfcc_df = pd.DataFrame(mfcc_feature_vectors)\n",
        "result_mfcc = pd.concat([new[['voice_id', 'emotion_id', 'text_id', 'gender', 'age']].reset_index(drop=True), mfcc_df.reset_index(drop=True)], axis=1, ignore_index=True)\n",
        "result_mfcc.to_csv(f'{root}/Features/MFCC.csv')\n",
        "result_mfcc"
      ]
    },
    {
      "cell_type": "code",
      "execution_count": null,
      "metadata": {
        "colab": {
          "base_uri": "https://localhost:8080/",
          "height": 661
        },
        "id": "2vAar13ict0a",
        "outputId": "af99a1b9-abd7-4fcf-819f-7876d6a7669d"
      },
      "outputs": [],
      "source": [
        "mel_df = pd.DataFrame(mel_feature_vectors)\n",
        "result_mel = pd.concat([new[['voice_id', 'emotion_id', 'text_id', 'gender', 'age']].reset_index(drop=True), mel_df.reset_index(drop=True)], axis=1)\n",
        "result_mel.to_csv(f'{root}/Features/MFCC_flat.csv')\n",
        "result_mel"
      ]
    },
    {
      "cell_type": "code",
      "execution_count": null,
      "metadata": {
        "colab": {
          "base_uri": "https://localhost:8080/",
          "height": 424
        },
        "id": "oV-Xho2cbJjr",
        "outputId": "7de18be6-b588-4460-f018-8f26bce1adec"
      },
      "outputs": [],
      "source": [
        "chroma_df = pd.DataFrame(chroma_feature_vectors)\n",
        "result_chroma = pd.concat([new[['voice_id', 'emotion_id', 'text_id', 'gender', 'age']].reset_index(drop=True), chroma_df.reset_index(drop=True)], axis=1)\n",
        "result_chroma.to_csv(f'{root}/Features/CHROMA.csv')\n",
        "result_chroma"
      ]
    },
    {
      "cell_type": "code",
      "execution_count": null,
      "metadata": {
        "id": "u-xLS8KP6mvg"
      },
      "outputs": [],
      "source": [
        "# Feature Extraction\n",
        "!pip install -q surfboard\n",
        "from surfboard.sound import Waveform\n",
        "from surfboard.feature_extraction import extract_features\n",
        "# from surfboard.feature_extraction import extract_features_from_paths\n",
        "from surfboard.feature_extraction_multiprocessing import extract_features_from_paths"
      ]
    },
    {
      "cell_type": "code",
      "execution_count": null,
      "metadata": {
        "id": "iZ510I1JGet5"
      },
      "outputs": [],
      "source": [
        "files = list(data['file_path'])\n",
        "\n",
        "main1 = extract_features_from_paths(paths=files, components_list=['mfcc', 'log_melspec'], statistics_list=['mean', 'std'], sample_rate=44100, num_proc=2)\n",
        "main1 = pd.concat([data[['voice_id', 'emotion_id', 'text_id', 'gender', 'age']], main1], axis=1)\n",
        "main1.to_csv(f'{root}/Features/melMFCC.csv')\n",
        "\n",
        "main2 = extract_features_from_paths(paths=files, components_list=['rms',  'chroma_stft' ,'zerocrossing', 'ppe'], statistics_list=['mean', 'std'], sample_rate=44100, num_proc=2)\n",
        "main2 = pd.concat([data[['voice_id', 'emotion_id', 'text_id', 'gender', 'age']], main2], axis=1)\n",
        "main2.to_csv(f'{root}/Features/zcrossRMS.csv')\n",
        "\n",
        "main3 = extract_features_from_paths(paths=files, components_list=['magnitude_spectrum'], statistics_list=['mean', 'std'], sample_rate=44100, num_proc=2)\n",
        "main3 = pd.concat([data[['voice_id', 'emotion_id', 'text_id', 'gender', 'age']], main3], axis=1)\n",
        "main3.to_csv(f'{root}/Features/spectrum.csv')\n",
        "\n",
        "main4 = extract_features_from_paths(paths=files, components_list=['shannon_entropy_slidingwindow'], statistics_list=['mean', 'std'], sample_rate=44100, num_proc=2)\n",
        "main4 = pd.concat([data[['voice_id', 'emotion_id', 'text_id', 'gender', 'age']], main4], axis=1)\n",
        "main4.to_csv(f'{root}/Features/cwt.csv')\n",
        "main1"
      ]
    },
    {
      "cell_type": "code",
      "execution_count": null,
      "metadata": {
        "id": "p3qV1onc7U-K"
      },
      "outputs": [],
      "source": []
    }
  ],
  "metadata": {
    "colab": {
      "collapsed_sections": [],
      "name": "01-Feature_Extraction2.ipynb",
      "provenance": []
    },
    "gpuClass": "standard",
    "kernelspec": {
      "display_name": "Python 3.10.0 64-bit",
      "language": "python",
      "name": "python3"
    },
    "language_info": {
      "name": "python",
      "version": "3.10.0"
    },
    "vscode": {
      "interpreter": {
        "hash": "369f2c481f4da34e4445cda3fffd2e751bd1c4d706f27375911949ba6bb62e1c"
      }
    }
  },
  "nbformat": 4,
  "nbformat_minor": 0
}
